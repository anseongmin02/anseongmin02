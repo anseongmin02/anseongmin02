{
  "nbformat": 4,
  "nbformat_minor": 0,
  "metadata": {
    "colab": {
      "provenance": [],
      "authorship_tag": "ABX9TyP7YWgQkiR+VqDY66ZgWXr6",
      "include_colab_link": true
    },
    "kernelspec": {
      "name": "python3",
      "display_name": "Python 3"
    },
    "language_info": {
      "name": "python"
    }
  },
  "cells": [
    {
      "cell_type": "markdown",
      "metadata": {
        "id": "view-in-github",
        "colab_type": "text"
      },
      "source": [
        "<a href=\"https://colab.research.google.com/github/anseongmin02/anseongmin02/blob/main/Untitled0_ipynb%EC%9D%98_%EC%82%AC%EB%B3%B8.ipynb\" target=\"_parent\"><img src=\"https://colab.research.google.com/assets/colab-badge.svg\" alt=\"Open In Colab\"/></a>"
      ]
    },
    {
      "cell_type": "code",
      "execution_count": null,
      "metadata": {
        "colab": {
          "base_uri": "https://localhost:8080/"
        },
        "id": "6e_mH-SKp1Wr",
        "outputId": "9f1cc515-b980-4fc3-8e88-13a943f92941"
      },
      "outputs": [
        {
          "output_type": "stream",
          "name": "stdout",
          "text": [
            "3\n"
          ]
        }
      ],
      "source": [
        "#안성민 202101982\n",
        "\n",
        "a=1\n",
        "b=2\n",
        "print(a+b)"
      ]
    },
    {
      "cell_type": "code",
      "source": [
        "n = int( input(\"숫자를 입력하시오.:  \"))\n",
        "\n",
        "if n == int(n)<=30:\n",
        "\n",
        "    for i in range(1,n+1):\n",
        "        for j in range(1,i+1):\n",
        "            print(j,end=\"\")\n",
        "        print()\n",
        "\n",
        "elif n == int(n)>=30:\n",
        "      print(\"너무 많다.\")"
      ],
      "metadata": {
        "colab": {
          "base_uri": "https://localhost:8080/"
        },
        "id": "aDqt2O-p1qVj",
        "outputId": "1de23763-7d6f-4104-de05-4af5aa29a40a"
      },
      "execution_count": null,
      "outputs": [
        {
          "output_type": "stream",
          "name": "stdout",
          "text": [
            "숫자를 입력하시오.:  31\n",
            "너무 많다.\n"
          ]
        }
      ]
    }
  ]
}